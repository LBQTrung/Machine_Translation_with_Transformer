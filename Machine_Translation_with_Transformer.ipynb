{
  "metadata": {
    "kernelspec": {
      "language": "python",
      "display_name": "Python 3",
      "name": "python3"
    },
    "language_info": {
      "name": "python",
      "version": "3.7.12",
      "mimetype": "text/x-python",
      "codemirror_mode": {
        "name": "ipython",
        "version": 3
      },
      "pygments_lexer": "ipython3",
      "nbconvert_exporter": "python",
      "file_extension": ".py"
    },
    "kaggle": {
      "accelerator": "gpu",
      "dataSources": [
        {
          "sourceId": 2432854,
          "sourceType": "datasetVersion",
          "datasetId": 1472191
        },
        {
          "sourceId": 10268245,
          "sourceType": "datasetVersion",
          "datasetId": 6352825
        }
      ],
      "dockerImageVersionId": 30302,
      "isInternetEnabled": true,
      "language": "python",
      "sourceType": "notebook",
      "isGpuEnabled": true
    },
    "colab": {
      "provenance": []
    }
  },
  "nbformat_minor": 0,
  "nbformat": 4,
  "cells": [
    {
      "cell_type": "markdown",
      "source": [
        "# 🌟 **Mô hình Transformer trong bài toán dịch máy** 🌟  \n",
        "### 📚 **Đồ án môn học:** Trí tuệ nhân tạo cơ bản\n",
        "## 📝 **Thông tin nhóm**  \n",
        "<style>\n",
        "  table {\n",
        "    width: 100%;\n",
        "    border-collapse: collapse;\n",
        "    font-size: 16px; /* Tăng kích thước chữ */\n",
        "  }\n",
        "  th, td {\n",
        "    border: 1px solid #ddd;\n",
        "    padding: 10px;\n",
        "    text-align: left;\n",
        "  }\n",
        "  th {\n",
        "    background-color: #f2f2f2;\n",
        "  }\n",
        "</style>\n",
        "<div>  \n",
        "<table style=\"width:100%; font-size: 18px; border-collapse: collapse; text-align: left;\">  \n",
        "  <tr style=\"border-bottom: 1px solid #ddd;\">  \n",
        "    <th style=\"padding: 8px;\">Họ và Tên</th>  \n",
        "    <th style=\"padding: 8px;\">MSSV</th>  \n",
        "  </tr>  \n",
        "  <tr>  \n",
        "    <td style=\"padding: 8px;\">Trần Nguyên Bình</td>  \n",
        "    <td style=\"padding: 8px;\">21E1010005</td>  \n",
        "  </tr>\n",
        "  <tr>  \n",
        "    <td style=\"padding: 8px;\">Phạm Thị Lê Na</td>  \n",
        "    <td style=\"padding: 8px;\">21E1010002</td>  \n",
        "  </tr>  \n",
        "  <tr>  \n",
        "    <td style=\"padding: 8px;\">Lê Bá Quốc Trung</td>  \n",
        "    <td style=\"padding: 8px;\">21E1020020</td>  \n",
        "  </tr>  \n",
        "</table>  \n",
        "</div>  \n",
        "\n",
        "---\n",
        "## 💡 **Giới thiệu**   \n",
        "**Transformer** là một kiến trúc mạnh mẽ trong lĩnh vực xử lý ngôn ngữ tự nhiên, được thiết kế đặc biệt cho các bài toán dịch máy. Với khả năng xử lý song song và sử dụng cơ chế attention, Transformer mang lại hiệu quả cao trong việc dịch tự động giữa các ngôn ngữ khác nhau.\n",
        "\n",
        "Trong đồ án này, Transformer sẽ được áp dụng để dịch từ tiếng Anh sang tiếng Việt. Hệ thống sẽ dựa trên tập dữ liệu song ngữ đã được xử lý và gán nhãn, sử dụng thư viện PyTorch để xây dựng và huấn luyện mô hình.\n",
        "\n",
        "---\n",
        "## 🎯 **Mục tiêu:**\n",
        "1. Chuẩn bị và tiền xử lý dữ liệu ngôn ngữ song ngữ.  \n",
        "2. Nghiên cứu và triển khai kiến trúc Transformer bằng PyTorch.  \n",
        "3. Huấn luyện, tinh chỉnh mô hình và đánh giá hiệu suất trên tập dữ liệu dịch máy.\n",
        "---"
      ],
      "metadata": {
        "id": "eycklUaPuQvh"
      }
    },
    {
      "cell_type": "markdown",
      "source": [
        "### **1\\. Thiết lập môi trường**"
      ],
      "metadata": {
        "id": "khxzQSZAndzL"
      }
    },
    {
      "cell_type": "markdown",
      "source": [
        "#### **1\\.1 Cài đặt thư viện cần thiết**"
      ],
      "metadata": {
        "id": "_lqFRl78bprO"
      }
    },
    {
      "cell_type": "code",
      "source": [
        "!pip install underthesea -q"
      ],
      "metadata": {
        "_uuid": "8f2839f25d086af736a60e9eeb907d3b93b6e0e5",
        "_cell_guid": "b1076dfc-b9ad-4769-8c92-a6c4dae69d19",
        "_kg_hide-input": true,
        "_kg_hide-output": true,
        "execution": {
          "iopub.status.busy": "2024-12-22T08:39:45.373698Z",
          "iopub.execute_input": "2024-12-22T08:39:45.374115Z",
          "iopub.status.idle": "2024-12-22T08:39:56.057650Z",
          "shell.execute_reply.started": "2024-12-22T08:39:45.374035Z",
          "shell.execute_reply": "2024-12-22T08:39:56.056558Z"
        },
        "trusted": true,
        "id": "WC7NyU23nYV5"
      },
      "outputs": [],
      "execution_count": null
    },
    {
      "cell_type": "markdown",
      "source": [
        "#### **1\\.2 Import các thư viện cần thiết**"
      ],
      "metadata": {
        "id": "XTqpJ4T9btpm"
      }
    },
    {
      "cell_type": "code",
      "source": [
        "import pandas as pd\n",
        "import numpy as np\n",
        "import re,string\n",
        "from underthesea import word_tokenize\n",
        "from torchtext.data.utils import get_tokenizer\n",
        "from torchtext.vocab import build_vocab_from_iterator\n",
        "from typing import Iterable, List\n",
        "from gensim.models import KeyedVectors\n",
        "from torch import Tensor\n",
        "import torch\n",
        "import torch.nn as nn\n",
        "from torch.nn import Transformer\n",
        "from torch.nn.utils.rnn import pad_sequence\n",
        "from timeit import default_timer as timer\n",
        "import math\n",
        "import warnings\n",
        "warnings.filterwarnings('ignore')"
      ],
      "metadata": {
        "execution": {
          "iopub.status.busy": "2024-12-22T08:39:56.059475Z",
          "iopub.execute_input": "2024-12-22T08:39:56.059767Z",
          "iopub.status.idle": "2024-12-22T08:39:59.629541Z",
          "shell.execute_reply.started": "2024-12-22T08:39:56.059740Z",
          "shell.execute_reply": "2024-12-22T08:39:59.628498Z"
        },
        "trusted": true,
        "id": "-QO6ubfvnYV9"
      },
      "outputs": [],
      "execution_count": null
    },
    {
      "cell_type": "markdown",
      "source": [
        "#### **1\\.3 Đọc và kiểm tra dữ liệu**"
      ],
      "metadata": {
        "id": "oPxkkO5XbySP"
      }
    },
    {
      "cell_type": "markdown",
      "source": [
        "Tập dữ liệu English Vietnamese Translation: https://www.kaggle.com/datasets/hungnm/englishvietnamese-translation?select=en_sents\n",
        "\n",
        "Mô tả: Dữ liệu bao gồm hai tệp văn bản: một tệp chứa các câu tiếng Anh và một tệp chứa các bản dịch tiếng Việt tương ứng. Cụ thể, mỗi dòng trong tệp đầu tiên là một câu tiếng Anh, và dòng tương ứng ở tệp thứ hai là bản dịch tiếng Việt của câu đó. Bộ dữ liệu cung cấp các cặp câu song ngữ song song, đảm bảo tính toàn vẹn và sự phù hợp cho việc huấn luyện mô hình dịch máy. Các câu trong tập dữ liệu có độ dài và ngữ cảnh đa dạng, tạo điều kiện cho mô hình học được các đặc trưng quan trọng trong bài toán dịch ngôn ngữ.\n"
      ],
      "metadata": {
        "id": "vY9EDYkpb1Rf"
      }
    },
    {
      "cell_type": "code",
      "source": [
        "# Đọc và kiểm tra dữ liệu\n",
        "data_dir = \"../input/englishvietnamese-translation/\"\n",
        "en_sents = open(data_dir + 'en_sents', \"r\").read().splitlines()\n",
        "vi_sents = open(data_dir + 'vi_sents', \"r\").read().splitlines()\n",
        "raw_data = {\n",
        "        \"en\": [line for line in en_sents[:170000]], # Only take first 170000 lines\n",
        "        \"vi\": [line for line in vi_sents[:170000]],\n",
        "    }\n",
        "df = pd.DataFrame(raw_data, columns=[\"en\", \"vi\"])\n",
        "print(len(en_sents))\n",
        "df.head()"
      ],
      "metadata": {
        "execution": {
          "iopub.status.busy": "2024-12-22T08:39:59.631154Z",
          "iopub.execute_input": "2024-12-22T08:39:59.631883Z",
          "iopub.status.idle": "2024-12-22T08:40:00.252938Z",
          "shell.execute_reply.started": "2024-12-22T08:39:59.631845Z",
          "shell.execute_reply": "2024-12-22T08:40:00.252009Z"
        },
        "trusted": true,
        "id": "ssjzjALvnYV-",
        "outputId": "cc228ba2-35e6-4931-8813-3ed1ce726b9b"
      },
      "outputs": [
        {
          "name": "stdout",
          "text": "254090\n",
          "output_type": "stream"
        },
        {
          "execution_count": 3,
          "output_type": "execute_result",
          "data": {
            "text/plain": "                                                  en  \\\n0         Please put the dustpan in the broom closet   \n1                             Be quiet for a moment.   \n2                                          Read this   \n3  Tom persuaded the store manager to give him ba...   \n4        Friendship consists of mutual understanding   \n\n                                                  vi  \n0      xin vui lòng đặt người quét rác trong tủ chổi  \n1                                    im lặng một lát  \n2                                            đọc này  \n3  tom thuyết phục người quản lý cửa hàng trả lại...  \n4             tình bạn bao gồm sự hiểu biết lẫn nhau  ",
            "text/html": "<div>\n<style scoped>\n    .dataframe tbody tr th:only-of-type {\n        vertical-align: middle;\n    }\n\n    .dataframe tbody tr th {\n        vertical-align: top;\n    }\n\n    .dataframe thead th {\n        text-align: right;\n    }\n</style>\n<table border=\"1\" class=\"dataframe\">\n  <thead>\n    <tr style=\"text-align: right;\">\n      <th></th>\n      <th>en</th>\n      <th>vi</th>\n    </tr>\n  </thead>\n  <tbody>\n    <tr>\n      <th>0</th>\n      <td>Please put the dustpan in the broom closet</td>\n      <td>xin vui lòng đặt người quét rác trong tủ chổi</td>\n    </tr>\n    <tr>\n      <th>1</th>\n      <td>Be quiet for a moment.</td>\n      <td>im lặng một lát</td>\n    </tr>\n    <tr>\n      <th>2</th>\n      <td>Read this</td>\n      <td>đọc này</td>\n    </tr>\n    <tr>\n      <th>3</th>\n      <td>Tom persuaded the store manager to give him ba...</td>\n      <td>tom thuyết phục người quản lý cửa hàng trả lại...</td>\n    </tr>\n    <tr>\n      <th>4</th>\n      <td>Friendship consists of mutual understanding</td>\n      <td>tình bạn bao gồm sự hiểu biết lẫn nhau</td>\n    </tr>\n  </tbody>\n</table>\n</div>"
          },
          "metadata": {}
        }
      ],
      "execution_count": null
    },
    {
      "cell_type": "markdown",
      "source": [
        "**Nhận xét:** Tập dữ lệu gồm 254090 nhóm, một nhóm gồm một câu tiếng anh và bản dịch tiếng Việt do con người thực hiện. Nhóm nghiên cứu sẽ tiến hành dùng 170000 nhóm dữ liệu trên cho mục tiêu huấn luyện và kiểm tra."
      ],
      "metadata": {
        "id": "W_GC6BgFb5rG"
      }
    },
    {
      "cell_type": "markdown",
      "source": [
        "## **2\\. Tiền xử lý dữ liệu**"
      ],
      "metadata": {
        "id": "mbQJX094nYV_"
      }
    },
    {
      "cell_type": "markdown",
      "source": [
        "#### **2\\.1 Kiểm tra các giá trị NaN**"
      ],
      "metadata": {
        "id": "_iQ5YMoacKn5"
      }
    },
    {
      "cell_type": "code",
      "source": [
        "df.isna().sum()"
      ],
      "metadata": {
        "execution": {
          "iopub.status.busy": "2024-12-22T08:40:00.255257Z",
          "iopub.execute_input": "2024-12-22T08:40:00.255531Z",
          "iopub.status.idle": "2024-12-22T08:40:00.279460Z",
          "shell.execute_reply.started": "2024-12-22T08:40:00.255505Z",
          "shell.execute_reply": "2024-12-22T08:40:00.278505Z"
        },
        "trusted": true,
        "id": "zbnhzpv5nYWA",
        "outputId": "2ab436f3-5705-4eaf-c7e6-7b4d57dec580"
      },
      "outputs": [
        {
          "execution_count": 4,
          "output_type": "execute_result",
          "data": {
            "text/plain": "en    0\nvi    0\ndtype: int64"
          },
          "metadata": {}
        }
      ],
      "execution_count": null
    },
    {
      "cell_type": "markdown",
      "source": [
        "#### **2\\.2 Tạo hàm chuẩn hóa văn bản**\n",
        "\n",
        "Bao gồm:\n",
        "- Xóa dấu câu\n",
        "- Chuyển thành chữ thường\n",
        "- Chuẩn hóa khoảng trắng"
      ],
      "metadata": {
        "id": "_vlCp8KEcOwh"
      }
    },
    {
      "cell_type": "code",
      "source": [
        "def preprocessing(df):\n",
        "  df[\"en\"] = df[\"en\"].apply(lambda ele: ele.translate(str.maketrans('', '', string.punctuation))) # Remove punctuation\n",
        "  df[\"vi\"] = df[\"vi\"].apply(lambda ele: ele.translate(str.maketrans('', '', string.punctuation)))\n",
        "  df[\"en\"] = df[\"en\"].apply(lambda ele: ele.lower()) # convert text to lowercase\n",
        "  df[\"vi\"] = df[\"vi\"].apply(lambda ele: ele.lower())\n",
        "  df[\"en\"] = df[\"en\"].apply(lambda ele: ele.strip())\n",
        "  df[\"vi\"] = df[\"vi\"].apply(lambda ele: ele.strip())\n",
        "  df[\"en\"] = df[\"en\"].apply(lambda ele: re.sub(\"\\s+\", \" \", ele))\n",
        "  df[\"vi\"] = df[\"vi\"].apply(lambda ele: re.sub(\"\\s+\", \" \", ele))\n",
        "\n",
        "  return df\n",
        "\n",
        "df = preprocessing(df)\n",
        "df.head()"
      ],
      "metadata": {
        "execution": {
          "iopub.status.busy": "2024-12-22T08:40:00.280659Z",
          "iopub.execute_input": "2024-12-22T08:40:00.280942Z",
          "iopub.status.idle": "2024-12-22T08:40:02.914645Z",
          "shell.execute_reply.started": "2024-12-22T08:40:00.280911Z",
          "shell.execute_reply": "2024-12-22T08:40:02.913694Z"
        },
        "trusted": true,
        "id": "jpcrVM3wnYWA",
        "outputId": "617e92be-9630-4409-a71a-e1b033952e4d"
      },
      "outputs": [
        {
          "execution_count": 5,
          "output_type": "execute_result",
          "data": {
            "text/plain": "                                                  en  \\\n0         please put the dustpan in the broom closet   \n1                              be quiet for a moment   \n2                                          read this   \n3  tom persuaded the store manager to give him ba...   \n4        friendship consists of mutual understanding   \n\n                                                  vi  \n0      xin vui lòng đặt người quét rác trong tủ chổi  \n1                                    im lặng một lát  \n2                                            đọc này  \n3  tom thuyết phục người quản lý cửa hàng trả lại...  \n4             tình bạn bao gồm sự hiểu biết lẫn nhau  ",
            "text/html": "<div>\n<style scoped>\n    .dataframe tbody tr th:only-of-type {\n        vertical-align: middle;\n    }\n\n    .dataframe tbody tr th {\n        vertical-align: top;\n    }\n\n    .dataframe thead th {\n        text-align: right;\n    }\n</style>\n<table border=\"1\" class=\"dataframe\">\n  <thead>\n    <tr style=\"text-align: right;\">\n      <th></th>\n      <th>en</th>\n      <th>vi</th>\n    </tr>\n  </thead>\n  <tbody>\n    <tr>\n      <th>0</th>\n      <td>please put the dustpan in the broom closet</td>\n      <td>xin vui lòng đặt người quét rác trong tủ chổi</td>\n    </tr>\n    <tr>\n      <th>1</th>\n      <td>be quiet for a moment</td>\n      <td>im lặng một lát</td>\n    </tr>\n    <tr>\n      <th>2</th>\n      <td>read this</td>\n      <td>đọc này</td>\n    </tr>\n    <tr>\n      <th>3</th>\n      <td>tom persuaded the store manager to give him ba...</td>\n      <td>tom thuyết phục người quản lý cửa hàng trả lại...</td>\n    </tr>\n    <tr>\n      <th>4</th>\n      <td>friendship consists of mutual understanding</td>\n      <td>tình bạn bao gồm sự hiểu biết lẫn nhau</td>\n    </tr>\n  </tbody>\n</table>\n</div>"
          },
          "metadata": {}
        }
      ],
      "execution_count": null
    },
    {
      "cell_type": "markdown",
      "source": [
        "#### **2\\.3 Khởi tạo tokenizer và từ điển cho tiếng Anh và tiếng Việt**\n"
      ],
      "metadata": {
        "id": "XawpHPUAcaBj"
      }
    },
    {
      "cell_type": "code",
      "source": [
        "SRC_LANGUAGE = 'en'\n",
        "TGT_LANGUAGE = 'vi'\n",
        "\n",
        "token_transform = {}\n",
        "vocab_transform = {}\n",
        "\n",
        "def vi_tokenizer(sentence):\n",
        "    tokens = word_tokenize(sentence)\n",
        "    return tokens\n",
        "\n",
        "token_transform[SRC_LANGUAGE] = get_tokenizer('basic_english')\n",
        "token_transform[TGT_LANGUAGE] = get_tokenizer(vi_tokenizer)\n",
        "\n",
        "def yield_tokens(data_iter: Iterable, language: str) -> List[str]:\n",
        "    for index,data_sample in data_iter:\n",
        "        yield token_transform[language](data_sample[language])\n",
        "\n",
        "UNK_IDX, PAD_IDX, BOS_IDX, EOS_IDX = 0, 1, 2, 3\n",
        "special_symbols = ['<unk>', '<pad>', '<bos>', '<eos>']\n",
        "\n",
        "for ln in [SRC_LANGUAGE, TGT_LANGUAGE]:\n",
        "    train_iter = df.iterrows()\n",
        "    vocab_transform[ln] = build_vocab_from_iterator(yield_tokens(train_iter, ln),\n",
        "                                                    min_freq=1,\n",
        "                                                    specials=special_symbols,\n",
        "                                                    special_first=True)\n",
        "\n",
        "for ln in [SRC_LANGUAGE, TGT_LANGUAGE]:\n",
        "  vocab_transform[ln].set_default_index(UNK_IDX)"
      ],
      "metadata": {
        "execution": {
          "iopub.status.busy": "2024-12-22T08:40:02.915771Z",
          "iopub.execute_input": "2024-12-22T08:40:02.916056Z",
          "iopub.status.idle": "2024-12-22T08:41:39.727180Z",
          "shell.execute_reply.started": "2024-12-22T08:40:02.916031Z",
          "shell.execute_reply": "2024-12-22T08:41:39.725880Z"
        },
        "trusted": true,
        "id": "U_RmrbP-nYWB"
      },
      "outputs": [],
      "execution_count": null
    },
    {
      "cell_type": "markdown",
      "source": [
        "## **3\\. Xây dựng mô hình**"
      ],
      "metadata": {
        "id": "w86iKYA5nYWC"
      }
    },
    {
      "cell_type": "markdown",
      "source": [
        "#### **3\\.1 Thiết lập mô hình Transformer**"
      ],
      "metadata": {
        "id": "9Bq-gMp-hMly"
      }
    },
    {
      "cell_type": "code",
      "source": [
        "DEVICE = torch.device('cuda' if torch.cuda.is_available() else 'cpu')\n",
        "\n",
        "class PositionalEncoding(nn.Module):\n",
        "    def __init__(self,\n",
        "                 emb_size: int,\n",
        "                 dropout: float = 0.1,\n",
        "                 maxlen: int = 5000):\n",
        "        super(PositionalEncoding, self).__init__()\n",
        "\n",
        "        den = torch.exp(- torch.arange(0, emb_size, 2)* math.log(10000) / emb_size)\n",
        "        pos = torch.arange(0, maxlen).reshape(maxlen, 1)\n",
        "        pos_embedding = torch.zeros((maxlen, emb_size))\n",
        "        pos_embedding[:, 0::2] = torch.sin(pos * den)\n",
        "        pos_embedding[:, 1::2] = torch.cos(pos * den)\n",
        "        pos_embedding = pos_embedding.unsqueeze(-2)\n",
        "\n",
        "        self.dropout = nn.Dropout(dropout)\n",
        "        self.register_buffer('pos_embedding', pos_embedding)\n",
        "\n",
        "    def forward(self, token_embedding: Tensor):\n",
        "        return self.dropout(token_embedding + self.pos_embedding[:token_embedding.size(0), :])\n",
        "\n",
        "class TokenEmbedding(nn.Module):\n",
        "    def __init__(self, vocab_size: int, emb_size):\n",
        "        super(TokenEmbedding, self).__init__()\n",
        "        self.embedding = nn.Embedding(vocab_size, emb_size)\n",
        "        self.emb_size = emb_size\n",
        "\n",
        "    def forward(self, tokens: Tensor):\n",
        "        return self.embedding(tokens.long()) * math.sqrt(self.emb_size)\n",
        "\n",
        "class Seq2SeqTransformer(nn.Module):\n",
        "    def __init__(self,\n",
        "                 num_encoder_layers: int,\n",
        "                 num_decoder_layers: int,\n",
        "                 emb_size: int,\n",
        "                 nhead: int,\n",
        "                 src_vocab_size: int,\n",
        "                 tgt_vocab_size: int,\n",
        "                 dim_feedforward: int = 512,\n",
        "                 dropout: float = 0.1):\n",
        "        super(Seq2SeqTransformer, self).__init__()\n",
        "        self.transformer = Transformer(d_model=emb_size,\n",
        "                                       nhead=nhead,\n",
        "                                       num_encoder_layers=num_encoder_layers,\n",
        "                                       num_decoder_layers=num_decoder_layers,\n",
        "                                       dim_feedforward=dim_feedforward,\n",
        "                                       dropout=dropout)\n",
        "        self.generator = nn.Linear(emb_size, tgt_vocab_size)\n",
        "        self.src_tok_emb = TokenEmbedding(src_vocab_size, emb_size)\n",
        "        self.tgt_tok_emb = TokenEmbedding(tgt_vocab_size, emb_size)\n",
        "        self.positional_encoding = PositionalEncoding(\n",
        "            emb_size, dropout=dropout)\n",
        "\n",
        "    def forward(self,\n",
        "                src: Tensor,\n",
        "                trg: Tensor,\n",
        "                src_mask: Tensor,\n",
        "                tgt_mask: Tensor,\n",
        "                src_padding_mask: Tensor,\n",
        "                tgt_padding_mask: Tensor,\n",
        "                memory_key_padding_mask: Tensor):\n",
        "        src_emb = self.positional_encoding(self.src_tok_emb(src))\n",
        "        tgt_emb = self.positional_encoding(self.tgt_tok_emb(trg))\n",
        "        outs = self.transformer(src_emb, tgt_emb, src_mask, tgt_mask, None,\n",
        "                                src_padding_mask, tgt_padding_mask, memory_key_padding_mask)\n",
        "        return self.generator(outs)\n",
        "\n",
        "    def encode(self, src: Tensor, src_mask: Tensor):\n",
        "        return self.transformer.encoder(self.positional_encoding(\n",
        "                            self.src_tok_emb(src)), src_mask)\n",
        "\n",
        "    def decode(self, tgt: Tensor, memory: Tensor, tgt_mask: Tensor):\n",
        "        return self.transformer.decoder(self.positional_encoding(\n",
        "                          self.tgt_tok_emb(tgt)), memory,\n",
        "                          tgt_mask)"
      ],
      "metadata": {
        "execution": {
          "iopub.status.busy": "2024-12-22T08:44:12.972170Z",
          "iopub.execute_input": "2024-12-22T08:44:12.973286Z",
          "iopub.status.idle": "2024-12-22T08:44:12.987725Z",
          "shell.execute_reply.started": "2024-12-22T08:44:12.973237Z",
          "shell.execute_reply": "2024-12-22T08:44:12.986721Z"
        },
        "trusted": true,
        "id": "RQn9YtobnYWC"
      },
      "outputs": [],
      "execution_count": null
    },
    {
      "cell_type": "markdown",
      "source": [
        "#### **3\\.2 Tạo mask cho decoder trong Transformer**"
      ],
      "metadata": {
        "id": "1Jrj3JW9hTSS"
      }
    },
    {
      "cell_type": "code",
      "source": [
        "def generate_square_subsequent_mask(sz):\n",
        "    mask = (torch.triu(torch.ones((sz, sz), device=DEVICE)) == 1).transpose(0, 1)\n",
        "    mask = mask.float().masked_fill(mask == 0, float('-inf')).masked_fill(mask == 1, float(0.0))\n",
        "    return mask\n",
        "\n",
        "\n",
        "def create_mask(src, tgt):\n",
        "    src_seq_len = src.shape[0]\n",
        "    tgt_seq_len = tgt.shape[0]\n",
        "\n",
        "    tgt_mask = generate_square_subsequent_mask(tgt_seq_len)\n",
        "    src_mask = torch.zeros((src_seq_len, src_seq_len),device=DEVICE).type(torch.bool)\n",
        "\n",
        "    src_padding_mask = (src == PAD_IDX).transpose(0, 1)\n",
        "    tgt_padding_mask = (tgt == PAD_IDX).transpose(0, 1)\n",
        "    return src_mask, tgt_mask, src_padding_mask, tgt_padding_mask"
      ],
      "metadata": {
        "execution": {
          "iopub.status.busy": "2024-12-22T08:50:32.329171Z",
          "iopub.execute_input": "2024-12-22T08:50:32.329595Z",
          "iopub.status.idle": "2024-12-22T08:50:32.337511Z",
          "shell.execute_reply.started": "2024-12-22T08:50:32.329563Z",
          "shell.execute_reply": "2024-12-22T08:50:32.336474Z"
        },
        "trusted": true,
        "id": "MPMLJD-onYWD"
      },
      "outputs": [],
      "execution_count": null
    },
    {
      "cell_type": "markdown",
      "source": [
        "#### **3\\.3 Khai báo mô hình**"
      ],
      "metadata": {
        "id": "1mvHT4_KiaEm"
      }
    },
    {
      "cell_type": "code",
      "source": [
        "# Khai báo mô hình\n",
        "torch.manual_seed(0)\n",
        "SRC_VOCAB_SIZE = len(vocab_transform[SRC_LANGUAGE])\n",
        "TGT_VOCAB_SIZE = len(vocab_transform[TGT_LANGUAGE])\n",
        "EMB_SIZE = 512\n",
        "NHEAD = 8\n",
        "FFN_HID_DIM = 512\n",
        "BATCH_SIZE = 64\n",
        "NUM_ENCODER_LAYERS = 4\n",
        "NUM_DECODER_LAYERS = 4\n",
        "DROP_OUT = 0.1\n",
        "\n",
        "transformer = Seq2SeqTransformer(NUM_ENCODER_LAYERS, NUM_DECODER_LAYERS, EMB_SIZE,\n",
        "                                 NHEAD, SRC_VOCAB_SIZE, TGT_VOCAB_SIZE, FFN_HID_DIM,DROP_OUT)\n",
        "\n",
        "for p in transformer.parameters():\n",
        "    if p.dim() > 1:\n",
        "        nn.init.xavier_uniform_(p)\n",
        "\n",
        "transformer = transformer.to(DEVICE)"
      ],
      "metadata": {
        "execution": {
          "iopub.status.busy": "2024-12-22T01:41:01.828861Z",
          "iopub.execute_input": "2024-12-22T01:41:01.829102Z",
          "iopub.status.idle": "2024-12-22T01:41:05.364404Z",
          "shell.execute_reply.started": "2024-12-22T01:41:01.829082Z",
          "shell.execute_reply": "2024-12-22T01:41:05.363709Z"
        },
        "trusted": true,
        "id": "WeJagfAfnYWD"
      },
      "outputs": [],
      "execution_count": null
    },
    {
      "cell_type": "markdown",
      "source": [
        "#### **3\\.4 Khai báo hàm mất mát và thuật toán tối ưu**"
      ],
      "metadata": {
        "id": "Ry1j2LQsidww"
      }
    },
    {
      "cell_type": "code",
      "source": [
        "\n",
        "loss_fn = torch.nn.CrossEntropyLoss(ignore_index=PAD_IDX)\n",
        "optimizer = torch.optim.Adam(transformer.parameters(), lr=0.0001, betas=(0.9, 0.98), eps=1e-9)"
      ],
      "metadata": {
        "id": "1JwW8OpSsAww"
      },
      "execution_count": null,
      "outputs": []
    },
    {
      "cell_type": "markdown",
      "source": [
        "#### **3\\.5 Một vài hàm tiện ích**"
      ],
      "metadata": {
        "id": "067QP17yijyY"
      }
    },
    {
      "cell_type": "code",
      "source": [
        "# Một vài hàm tiện ích\n",
        "def sequential_transforms(*transforms):\n",
        "    def func(txt_input):\n",
        "        for transform in transforms:\n",
        "            txt_input = transform(txt_input)\n",
        "        return txt_input\n",
        "    return func\n",
        "\n",
        "def tensor_transform(token_ids: List[int]):\n",
        "    return torch.cat((torch.tensor([BOS_IDX]),\n",
        "                      torch.tensor(token_ids),\n",
        "                      torch.tensor([EOS_IDX])))\n",
        "\n",
        "text_transform = {}\n",
        "for ln in [SRC_LANGUAGE, TGT_LANGUAGE]:\n",
        "    text_transform[ln] = sequential_transforms(token_transform[ln],\n",
        "                                               vocab_transform[ln],\n",
        "                                               tensor_transform)\n",
        "\n",
        "def collate_fn(batch):\n",
        "    src_batch, tgt_batch = [], []\n",
        "\n",
        "    for src_sample, tgt_sample in batch:\n",
        "        src_batch.append(text_transform[SRC_LANGUAGE](src_sample.rstrip(\"\\n\")))\n",
        "        tgt_batch.append(text_transform[TGT_LANGUAGE](tgt_sample.rstrip(\"\\n\")))\n",
        "\n",
        "    src_batch = pad_sequence(src_batch, padding_value=PAD_IDX)\n",
        "    tgt_batch = pad_sequence(tgt_batch, padding_value=PAD_IDX)\n",
        "    return src_batch, tgt_batch"
      ],
      "metadata": {
        "execution": {
          "iopub.status.busy": "2024-12-22T08:50:22.923090Z",
          "iopub.execute_input": "2024-12-22T08:50:22.923925Z",
          "iopub.status.idle": "2024-12-22T08:50:22.931265Z",
          "shell.execute_reply.started": "2024-12-22T08:50:22.923889Z",
          "shell.execute_reply": "2024-12-22T08:50:22.930256Z"
        },
        "trusted": true,
        "id": "W_iK3hQ0nYWE"
      },
      "outputs": [],
      "execution_count": null
    },
    {
      "cell_type": "markdown",
      "source": [
        "## **4\\. Huấn luyện mô hình**"
      ],
      "metadata": {
        "id": "wxHzZi4MsP1U"
      }
    },
    {
      "cell_type": "markdown",
      "source": [
        "#### **4\\.1 Phân chia tập huấn luyện và tập kiểm tra**"
      ],
      "metadata": {
        "id": "55GYYc_piqJg"
      }
    },
    {
      "cell_type": "code",
      "source": [
        "split_ratio = 0.9\n",
        "split = round(df.shape[0]* split_ratio)\n",
        "train = df.iloc[:split]\n",
        "train_ds = list(zip(train['en'],train['vi']))\n",
        "valid = df.iloc[split:]\n",
        "val_ds = list(zip(valid['en'],valid['vi']))"
      ],
      "metadata": {
        "execution": {
          "iopub.status.busy": "2024-12-22T08:54:01.293993Z",
          "iopub.execute_input": "2024-12-22T08:54:01.294680Z",
          "iopub.status.idle": "2024-12-22T08:54:01.345595Z",
          "shell.execute_reply.started": "2024-12-22T08:54:01.294649Z",
          "shell.execute_reply": "2024-12-22T08:54:01.344678Z"
        },
        "trusted": true,
        "id": "Lhzd_As3nYWE"
      },
      "outputs": [],
      "execution_count": null
    },
    {
      "cell_type": "markdown",
      "source": [
        "#### **4\\.2 Định nghĩa hàm huấn luyện và hàm đánh giá**"
      ],
      "metadata": {
        "id": "Gp8GRNYIivrQ"
      }
    },
    {
      "cell_type": "code",
      "source": [
        "from torch.utils.data import DataLoader\n",
        "\n",
        "accumulation_steps = 5\n",
        "\n",
        "def train_epoch(model, optimizer):\n",
        "    model.train()\n",
        "    losses = 0\n",
        "    val_los = 0\n",
        "    train_dataloader = DataLoader(train_ds, batch_size=BATCH_SIZE, collate_fn=collate_fn)\n",
        "    optimizer.zero_grad()\n",
        "    for i, (src, tgt) in enumerate(train_dataloader):\n",
        "        src = src.to(DEVICE)\n",
        "        tgt = tgt.to(DEVICE)\n",
        "\n",
        "        tgt_input = tgt[:-1, :]\n",
        "\n",
        "        src_mask, tgt_mask, src_padding_mask, tgt_padding_mask = create_mask(src, tgt_input)\n",
        "        logits = model(src, tgt_input, src_mask, tgt_mask,src_padding_mask, tgt_padding_mask, src_padding_mask)\n",
        "\n",
        "        tgt_out = tgt[1:, :]\n",
        "        loss = loss_fn(logits.reshape(-1, logits.shape[-1]), tgt_out.reshape(-1))\n",
        "        loss = loss / accumulation_steps # Normalize our loss (if averaged)\n",
        "        loss.backward()\n",
        "\n",
        "        if (i+1) % accumulation_steps == 0:             # Wait for several backward steps\n",
        "            optimizer.step() # Now we can do an optimizer step\n",
        "            optimizer.zero_grad() # Reset gradients tensor\n",
        "\n",
        "        losses += loss.item()\n",
        "\n",
        "    return losses / len(train_dataloader)\n",
        "\n",
        "def evaluate(model):\n",
        "    model.eval()\n",
        "    losses = 0\n",
        "\n",
        "    #val_iter = valid.iterrows()\n",
        "    val_dataloader = DataLoader(val_ds, batch_size=BATCH_SIZE, collate_fn=collate_fn)\n",
        "\n",
        "    for src, tgt in val_dataloader:\n",
        "        src = src.to(DEVICE)\n",
        "        tgt = tgt.to(DEVICE)\n",
        "\n",
        "        tgt_input = tgt[:-1, :]\n",
        "\n",
        "        src_mask, tgt_mask, src_padding_mask, tgt_padding_mask = create_mask(src, tgt_input)\n",
        "\n",
        "        logits = model(src, tgt_input, src_mask, tgt_mask,src_padding_mask, tgt_padding_mask, src_padding_mask)\n",
        "\n",
        "        tgt_out = tgt[1:, :]\n",
        "        loss = loss_fn(logits.reshape(-1, logits.shape[-1]), tgt_out.reshape(-1))\n",
        "        loss = loss / accumulation_steps # Normalize our loss (if averaged)\n",
        "        losses += loss.item()\n",
        "\n",
        "    return losses / len(val_dataloader)"
      ],
      "metadata": {
        "execution": {
          "iopub.status.busy": "2024-12-22T01:41:05.436132Z",
          "iopub.execute_input": "2024-12-22T01:41:05.436410Z",
          "iopub.status.idle": "2024-12-22T01:41:05.448605Z",
          "shell.execute_reply.started": "2024-12-22T01:41:05.436388Z",
          "shell.execute_reply": "2024-12-22T01:41:05.447831Z"
        },
        "trusted": true,
        "id": "nX5MwK1snYWE"
      },
      "outputs": [],
      "execution_count": null
    },
    {
      "cell_type": "markdown",
      "source": [
        "#### **4\\.3 Định nghĩa phương pháp Early Stopping**"
      ],
      "metadata": {
        "id": "VYhRqSd1i096"
      }
    },
    {
      "cell_type": "code",
      "source": [
        "class EarlyStopping():\n",
        "    def __init__(self, tolerance=5, min_delta=0):\n",
        "\n",
        "        self.tolerance = tolerance\n",
        "        self.min_delta = min_delta\n",
        "        self.counter = 0\n",
        "        self.early_stop = False\n",
        "\n",
        "    def __call__(self, train_loss, validation_loss):\n",
        "        if (validation_loss - train_loss) > self.min_delta:\n",
        "            self.counter +=1\n",
        "            if self.counter >= self.tolerance:\n",
        "                self.early_stop = True"
      ],
      "metadata": {
        "execution": {
          "iopub.status.busy": "2024-12-22T01:41:05.449800Z",
          "iopub.execute_input": "2024-12-22T01:41:05.450086Z",
          "iopub.status.idle": "2024-12-22T01:41:05.463940Z",
          "shell.execute_reply.started": "2024-12-22T01:41:05.450064Z",
          "shell.execute_reply": "2024-12-22T01:41:05.463042Z"
        },
        "trusted": true,
        "id": "HvHYssg5nYWF"
      },
      "outputs": [],
      "execution_count": null
    },
    {
      "cell_type": "markdown",
      "source": [
        "#### **4\\.4 Tiến hành huấn luyện**"
      ],
      "metadata": {
        "id": "bpmsE0d5i8WK"
      }
    },
    {
      "cell_type": "code",
      "source": [
        "early_stopping = EarlyStopping(tolerance=5, min_delta=0.1)\n",
        "NUM_EPOCHS = 30\n",
        "history = {\n",
        "        \"loss\": [],\n",
        "        \"val_los\": []\n",
        "        }\n",
        "\n",
        "for epoch in range(1, NUM_EPOCHS+1):\n",
        "    start_time = timer()\n",
        "    train_loss = train_epoch(transformer, optimizer)\n",
        "    end_time = timer()\n",
        "    val_loss = evaluate(transformer)\n",
        "    history['loss'].append(train_loss)\n",
        "    history['val_los'].append(val_loss)\n",
        "    print((f\"Epoch: {epoch}, Train loss: {train_loss:.3f}, Val loss: {val_loss:.3f}, \"f\"Epoch time = {(end_time - start_time):.3f}s\"))\n",
        "    # Early Stopping\n",
        "    early_stopping(train_loss, val_loss)\n",
        "    if early_stopping.early_stop:\n",
        "        print(\"We are at epoch:\", epoch)\n",
        "        break"
      ],
      "metadata": {
        "execution": {
          "iopub.status.busy": "2024-12-22T01:41:05.464858Z",
          "iopub.execute_input": "2024-12-22T01:41:05.465119Z",
          "iopub.status.idle": "2024-12-22T03:16:17.363540Z",
          "shell.execute_reply.started": "2024-12-22T01:41:05.465097Z",
          "shell.execute_reply": "2024-12-22T03:16:17.362668Z"
        },
        "_kg_hide-output": true,
        "trusted": true,
        "id": "esxlruJGnYWF",
        "outputId": "7c2dd326-e0a7-4433-f61e-3b8b4fb18ec7"
      },
      "outputs": [
        {
          "name": "stdout",
          "text": "Epoch: 1, Train loss: 0.944, Val loss: 0.629, Epoch time = 179.434s\nEpoch: 2, Train loss: 0.540, Val loss: 0.407, Epoch time = 178.743s\nEpoch: 3, Train loss: 0.382, Val loss: 0.312, Epoch time = 178.537s\nEpoch: 4, Train loss: 0.300, Val loss: 0.263, Epoch time = 178.240s\nEpoch: 5, Train loss: 0.248, Val loss: 0.232, Epoch time = 178.487s\nEpoch: 6, Train loss: 0.213, Val loss: 0.210, Epoch time = 178.195s\nEpoch: 7, Train loss: 0.187, Val loss: 0.193, Epoch time = 178.430s\nEpoch: 8, Train loss: 0.166, Val loss: 0.181, Epoch time = 178.154s\nEpoch: 9, Train loss: 0.150, Val loss: 0.172, Epoch time = 181.787s\nEpoch: 10, Train loss: 0.136, Val loss: 0.168, Epoch time = 183.812s\nEpoch: 11, Train loss: 0.124, Val loss: 0.162, Epoch time = 179.327s\nEpoch: 12, Train loss: 0.115, Val loss: 0.157, Epoch time = 178.521s\nEpoch: 13, Train loss: 0.106, Val loss: 0.154, Epoch time = 178.551s\nEpoch: 14, Train loss: 0.098, Val loss: 0.153, Epoch time = 177.628s\nEpoch: 15, Train loss: 0.091, Val loss: 0.151, Epoch time = 178.087s\nEpoch: 16, Train loss: 0.085, Val loss: 0.154, Epoch time = 178.539s\nEpoch: 17, Train loss: 0.080, Val loss: 0.152, Epoch time = 178.021s\nEpoch: 18, Train loss: 0.075, Val loss: 0.151, Epoch time = 175.767s\nEpoch: 19, Train loss: 0.070, Val loss: 0.148, Epoch time = 177.271s\nEpoch: 20, Train loss: 0.066, Val loss: 0.147, Epoch time = 175.697s\nEpoch: 21, Train loss: 0.062, Val loss: 0.147, Epoch time = 175.501s\nEpoch: 22, Train loss: 0.058, Val loss: 0.148, Epoch time = 175.412s\nEpoch: 23, Train loss: 0.055, Val loss: 0.148, Epoch time = 175.460s\nEpoch: 24, Train loss: 0.052, Val loss: 0.147, Epoch time = 177.432s\nEpoch: 25, Train loss: 0.049, Val loss: 0.148, Epoch time = 176.216s\nEpoch: 26, Train loss: 0.046, Val loss: 0.148, Epoch time = 174.694s\nEpoch: 27, Train loss: 0.044, Val loss: 0.149, Epoch time = 178.300s\nEpoch: 28, Train loss: 0.042, Val loss: 0.150, Epoch time = 176.606s\nEpoch: 29, Train loss: 0.039, Val loss: 0.150, Epoch time = 175.476s\nEpoch: 30, Train loss: 0.037, Val loss: 0.150, Epoch time = 175.330s\nWe are at epoch: 30\n",
          "output_type": "stream"
        }
      ],
      "execution_count": null
    },
    {
      "cell_type": "markdown",
      "source": [
        "#### **4\\.5 Trực quan hóa kết quả huấn luyện**"
      ],
      "metadata": {
        "id": "ZXIolKFtjB13"
      }
    },
    {
      "cell_type": "code",
      "source": [
        "# Vẽ biểu đồ huấn luyện\n",
        "import matplotlib.pyplot as plt\n",
        "%matplotlib inline\n",
        "\n",
        "plt.plot(history['loss'], label = \"loss\")\n",
        "plt.plot(history['val_los'], label = \"Val loss\")\n",
        "plt.xlabel('epoch')\n",
        "plt.ylabel('loss')\n",
        "plt.title('Loss vs. No. of epochs');"
      ],
      "metadata": {
        "_kg_hide-input": true,
        "trusted": true,
        "execution": {
          "iopub.status.busy": "2024-12-22T03:16:17.365062Z",
          "iopub.execute_input": "2024-12-22T03:16:17.365729Z",
          "iopub.status.idle": "2024-12-22T03:16:17.581745Z",
          "shell.execute_reply.started": "2024-12-22T03:16:17.365691Z",
          "shell.execute_reply": "2024-12-22T03:16:17.580938Z"
        },
        "id": "PtPk-JjjnYWF",
        "outputId": "e4fe12b9-0ceb-410b-b3f4-bc3a633d4c67"
      },
      "outputs": [
        {
          "output_type": "display_data",
          "data": {
            "text/plain": "<Figure size 432x288 with 1 Axes>",
            "image/png": "[encoded data removed]"
          },
          "metadata": {
            "needs_background": "light"
          }
        }
      ],
      "execution_count": null
    },
    {
      "cell_type": "markdown",
      "source": [
        "#### **4\\.6 Lưu mô hình**"
      ],
      "metadata": {
        "id": "QakRsS5jjHwn"
      }
    },
    {
      "cell_type": "code",
      "source": [
        "torch.save(transformer.state_dict(), \"viEn_transformer.pth\")"
      ],
      "metadata": {
        "id": "x64nRgfos7C-"
      },
      "execution_count": null,
      "outputs": []
    },
    {
      "cell_type": "markdown",
      "source": [
        "## **5. Ứng dụng mô hình**"
      ],
      "metadata": {
        "id": "_Q_KZN44nYWF"
      }
    },
    {
      "cell_type": "markdown",
      "source": [
        "#### **5\\.1 Định nghĩa các hàm dùng để lấy được từ trong tập từ vựng**"
      ],
      "metadata": {
        "id": "9nzWRYiGjc3k"
      }
    },
    {
      "cell_type": "code",
      "source": [
        "\n",
        "def greedy_decode(model, src, src_mask, max_len, start_symbol):\n",
        "    src = src.to(DEVICE)\n",
        "    src_mask = src_mask.to(DEVICE)\n",
        "\n",
        "    memory = model.encode(src, src_mask)\n",
        "    ys = torch.ones(1, 1).fill_(start_symbol).type(torch.long).to(DEVICE)\n",
        "    for i in range(max_len-1):\n",
        "        memory = memory.to(DEVICE)\n",
        "        tgt_mask = (generate_square_subsequent_mask(ys.size(0))\n",
        "                    .type(torch.bool)).to(DEVICE)\n",
        "        out = model.decode(ys, memory, tgt_mask)\n",
        "        out = out.transpose(0, 1)\n",
        "        prob = model.generator(out[:, -1])\n",
        "        _, next_word = torch.max(prob, dim=1)\n",
        "        next_word = next_word.item()\n",
        "\n",
        "        ys = torch.cat([ys,\n",
        "                        torch.ones(1, 1).type_as(src.data).fill_(next_word)], dim=0)\n",
        "        if next_word == EOS_IDX:\n",
        "            break\n",
        "    return ys\n",
        "\n",
        "def translate(model: torch.nn.Module, src_sentence: str):\n",
        "    model.eval()\n",
        "    src = text_transform[SRC_LANGUAGE](src_sentence).view(-1, 1)\n",
        "    num_tokens = src.shape[0]\n",
        "    src_mask = (torch.zeros(num_tokens, num_tokens)).type(torch.bool)\n",
        "    tgt_tokens = greedy_decode(\n",
        "        model,  src, src_mask, max_len=num_tokens + 5, start_symbol=BOS_IDX).flatten()\n",
        "    return \" \".join(vocab_transform[TGT_LANGUAGE].lookup_tokens(list(tgt_tokens.cpu().numpy()))).replace(\"<bos>\", \"\").replace(\"<eos>\", \"\")"
      ],
      "metadata": {
        "execution": {
          "iopub.status.busy": "2024-12-22T08:49:31.275773Z",
          "iopub.execute_input": "2024-12-22T08:49:31.276738Z",
          "iopub.status.idle": "2024-12-22T08:49:31.286032Z",
          "shell.execute_reply.started": "2024-12-22T08:49:31.276702Z",
          "shell.execute_reply": "2024-12-22T08:49:31.284991Z"
        },
        "trusted": true,
        "id": "S2dE68PdnYWG"
      },
      "outputs": [],
      "execution_count": null
    },
    {
      "cell_type": "markdown",
      "source": [
        "#### **5\\.2 Kiểm tra kết quả dịch thuật**"
      ],
      "metadata": {
        "id": "NmX4uAP1jweC"
      }
    },
    {
      "cell_type": "code",
      "source": [
        "# Kiểm tra dịch thuật\n",
        "from random import randint\n",
        "rand = [randint(170000,200000) for i in range(10)]\n",
        "test_set = [\n",
        "        [en_sents[i] for i in rand],\n",
        "        [vi_sents[i] for i in rand]]\n",
        "\n",
        "for i in range(len(test_set[0])):\n",
        "    print('Input English sentence:', test_set[0][i])\n",
        "    print('Actual Vietnamese Translation:', test_set[1][i])\n",
        "    print('Predicted Vietnamese Translation:', translate(transformer, test_set[0][i]))\n",
        "    print(\"\\n\")"
      ],
      "metadata": {
        "execution": {
          "iopub.status.busy": "2024-12-22T03:16:17.922226Z",
          "iopub.execute_input": "2024-12-22T03:16:17.922481Z",
          "iopub.status.idle": "2024-12-22T03:16:18.387123Z",
          "shell.execute_reply.started": "2024-12-22T03:16:17.922458Z",
          "shell.execute_reply": "2024-12-22T03:16:18.386252Z"
        },
        "trusted": true,
        "id": "Sb5vS2XqnYWG",
        "outputId": "ac5e0645-9574-4440-cb6e-656cac5c1c92"
      },
      "outputs": [
        {
          "name": "stdout",
          "text": "Input English sentence: Tears ran down my face.\nActual Vietnamese Translation: Nước mắt chảy dài trên khuôn mặt tôi.\nPredicted Vietnamese Translation:  nước mắt chảy xuống mặt tôi làm bạn thất vọng \n\n\nInput English sentence: I'm in the toilet\nActual Vietnamese Translation: tôi đang ở trong nhà vệ sinh\nPredicted Vietnamese Translation:  tôi đã làm gì nếu dẫn đường vệ sinh \n\n\nInput English sentence: Stop playing hard to get.\nActual Vietnamese Translation: ngừng chơi hết mình để có được.\nPredicted Vietnamese Translation:  ngừng chơi hết mình để bắt được sự cố tình \n\n\nInput English sentence: It's clear that it's so\nActual Vietnamese Translation: rõ ràng là như vậy\nPredicted Vietnamese Translation:  nó được bao xa cách làm điều đó một cách giả vờ như vậy \n\n\nInput English sentence: I'll have to give this some thought.\nActual Vietnamese Translation: tôi sẽ phải suy nghĩ điều này\nPredicted Vietnamese Translation:  tôi đã làm gì khi không được trả một số điều này có tội cứu \n\n\nInput English sentence: Tom is a good French speaker.\nActual Vietnamese Translation: tom là một người nói tiếng Pháp tốt.\nPredicted Vietnamese Translation:  tom là một người nói tiếng pháp tốt cách bệnh tật \n\n\nInput English sentence: If that happens again, I'll leave\nActual Vietnamese Translation: nếu điều đó xảy ra lần nữa, tôi sẽ rời đi\nPredicted Vietnamese Translation:  nếu điều đó xảy ra lần nữa đừng làm tôi mắc phải rời đi \n\n\nInput English sentence: It sounds pretty good.\nActual Vietnamese Translation: Nghe có vẻ khá tốt.\nPredicted Vietnamese Translation:  có vẻ khá giống như cách cứu tốt \n\n\nInput English sentence: Tom and I'll wait for you.\nActual Vietnamese Translation: tom và tôi sẽ đợi bạn\nPredicted Vietnamese Translation:  tom và tôi bị bắt làm bằng cách đợi bạn bị bắt \n\n\nInput English sentence: Tom doesn't know how tall Mary is.\nActual Vietnamese Translation: Tom không biết mary cao bao nhiêu.\nPredicted Vietnamese Translation:  tom mắc lỗi dẫn làm bằng cách mary tiết kiệm như thế nào \n\n\n",
          "output_type": "stream"
        }
      ],
      "execution_count": null
    },
    {
      "cell_type": "markdown",
      "source": [
        "## **6. Đánh giá mô hình**"
      ],
      "metadata": {
        "id": "b9rC6ztenYWG"
      }
    },
    {
      "cell_type": "markdown",
      "source": [
        "#### **6\\.1 Load lại mô hình đã tải**"
      ],
      "metadata": {
        "id": "0Mf4HC87kA-J"
      }
    },
    {
      "cell_type": "code",
      "source": [
        "torch.manual_seed(0)\n",
        "SRC_VOCAB_SIZE = len(vocab_transform[SRC_LANGUAGE])\n",
        "TGT_VOCAB_SIZE = len(vocab_transform[TGT_LANGUAGE])\n",
        "EMB_SIZE = 512\n",
        "NHEAD = 8\n",
        "FFN_HID_DIM = 512\n",
        "BATCH_SIZE = 64\n",
        "NUM_ENCODER_LAYERS = 4\n",
        "NUM_DECODER_LAYERS = 4\n",
        "DROP_OUT = 0.1\n",
        "\n",
        "\n",
        "loaded_transformer = Seq2SeqTransformer(NUM_ENCODER_LAYERS, NUM_DECODER_LAYERS, EMB_SIZE,\n",
        "                                 NHEAD, SRC_VOCAB_SIZE, TGT_VOCAB_SIZE, FFN_HID_DIM,DROP_OUT)\n",
        "loaded_transformer.load_state_dict(torch.load(\"/kaggle/input/model-vie/viEn_transformer.pth\", map_location=DEVICE))\n",
        "loaded_transformer = loaded_transformer.to(DEVICE)"
      ],
      "metadata": {
        "trusted": true,
        "execution": {
          "iopub.status.busy": "2024-12-22T08:50:42.997436Z",
          "iopub.execute_input": "2024-12-22T08:50:42.998091Z",
          "iopub.status.idle": "2024-12-22T08:50:43.647500Z",
          "shell.execute_reply.started": "2024-12-22T08:50:42.998056Z",
          "shell.execute_reply": "2024-12-22T08:50:43.646550Z"
        },
        "id": "qh5slqXunYWG",
        "collapsed": true
      },
      "outputs": [],
      "execution_count": null
    },
    {
      "cell_type": "markdown",
      "source": [
        "#### **6\\.2  Cài đặt các thư viện đánh giá mô hình**"
      ],
      "metadata": {
        "id": "qZsIcNsdkFRp"
      }
    },
    {
      "cell_type": "code",
      "source": [
        "!pip install rouge -q\n",
        "!pip install nltk -q"
      ],
      "metadata": {
        "trusted": true,
        "execution": {
          "iopub.status.busy": "2024-12-22T09:17:01.288421Z",
          "iopub.execute_input": "2024-12-22T09:17:01.289104Z",
          "iopub.status.idle": "2024-12-22T09:17:19.412160Z",
          "shell.execute_reply.started": "2024-12-22T09:17:01.289073Z",
          "shell.execute_reply": "2024-12-22T09:17:19.411024Z"
        },
        "id": "8t27cfbknYWH"
      },
      "outputs": [],
      "execution_count": null
    },
    {
      "cell_type": "markdown",
      "source": [
        "#### **6.3 Định nghĩa các độ đo đánh giá mô hình**"
      ],
      "metadata": {
        "id": "yHDHuTEtkLl6"
      }
    },
    {
      "cell_type": "code",
      "source": [
        "import torch\n",
        "import torch.nn.functional as F\n",
        "import math\n",
        "from nltk.translate.bleu_score import corpus_bleu\n",
        "from nltk.translate.meteor_score import meteor_score\n",
        "from rouge import Rouge\n",
        "\n",
        "def calculate_perplexity(model, dataloader, max_len=100):\n",
        "    model.eval()\n",
        "    total_loss = 0\n",
        "    total_tokens = 0\n",
        "    with torch.no_grad():\n",
        "        for src, tgt in dataloader:\n",
        "            src = src.to(DEVICE)\n",
        "            tgt = tgt.to(DEVICE)\n",
        "            tgt_input = tgt[:-1, :]\n",
        "            src_mask, tgt_mask, src_padding_mask, tgt_padding_mask = create_mask(src, tgt_input)\n",
        "            logits = model(src, tgt_input, src_mask, tgt_mask, src_padding_mask, tgt_padding_mask, src_padding_mask)\n",
        "            tgt_out = tgt[1:, :]\n",
        "            loss = F.cross_entropy(logits.reshape(-1, logits.shape[-1]), tgt_out.reshape(-1), ignore_index=PAD_IDX, reduction='sum')\n",
        "            total_loss += loss.item()\n",
        "            total_tokens += (tgt_out != PAD_IDX).sum().item()\n",
        "\n",
        "    if total_tokens == 0:\n",
        "        return float('inf')\n",
        "    return math.exp(total_loss / total_tokens)\n",
        "\n",
        "\n",
        "def calculate_bleu(model, test_data, max_len=100):\n",
        "    references = []\n",
        "    hypotheses = []\n",
        "    for src, tgt in test_data:\n",
        "        reference = [token_transform[TGT_LANGUAGE](tgt)]\n",
        "        hypothesis = token_transform[TGT_LANGUAGE](translate(model, src))\n",
        "        references.append(reference)\n",
        "        hypotheses.append(hypothesis)\n",
        "    return corpus_bleu(references, hypotheses)"
      ],
      "metadata": {
        "trusted": true,
        "execution": {
          "iopub.status.busy": "2024-12-22T09:20:21.037489Z",
          "iopub.execute_input": "2024-12-22T09:20:21.038260Z",
          "iopub.status.idle": "2024-12-22T09:20:21.053426Z",
          "shell.execute_reply.started": "2024-12-22T09:20:21.038221Z",
          "shell.execute_reply": "2024-12-22T09:20:21.052453Z"
        },
        "id": "IShqhB5wnYWH"
      },
      "outputs": [],
      "execution_count": null
    },
    {
      "cell_type": "markdown",
      "source": [
        "#### **6\\.4 Tiến hành đánh giá**"
      ],
      "metadata": {
        "id": "oXKe-RZEkQ8T"
      }
    },
    {
      "cell_type": "code",
      "source": [
        "from torch.utils.data import DataLoader\n",
        "val_dataloader = DataLoader(val_ds, batch_size=BATCH_SIZE, collate_fn=collate_fn)\n",
        "\n",
        "perplexity = calculate_perplexity(loaded_transformer, val_dataloader)\n",
        "print(f'Perplexity: {perplexity}')\n",
        "\n",
        "bleu_score = calculate_bleu(loaded_transformer, val_ds)\n",
        "print(f'BLEU: {bleu_score}')"
      ],
      "metadata": {
        "trusted": true,
        "execution": {
          "iopub.status.busy": "2024-12-22T09:20:23.384988Z",
          "iopub.execute_input": "2024-12-22T09:20:23.385842Z",
          "iopub.status.idle": "2024-12-22T09:50:53.946722Z",
          "shell.execute_reply.started": "2024-12-22T09:20:23.385810Z",
          "shell.execute_reply": "2024-12-22T09:50:53.945788Z"
        },
        "id": "dmDc1dXwnYWH"
      },
      "outputs": [],
      "execution_count": null
    },
    {
      "cell_type": "markdown",
      "source": [
        "![image.png](data:image/png;base64,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)"
      ],
      "metadata": {
        "id": "ILTO3zoLuI6P"
      }
    },
    {
      "cell_type": "markdown",
      "source": [
        "**Nhận xét:**\n",
        "- Mô hình Transformer đạt BLEU = 0.6779. Đây là kết quả khá tốt, phản ánh khả năng dịch chính xác với các bản dịch tham chiếu, đặc biệt khi dịch giữa hai ngôn ngữ có cấu trúc ngữ pháp khác biệt như tiếng Anh và tiếng Việt. Mô hình thể hiện khả năng học các mối quan hệ ngữ nghĩa và ngữ pháp cơ bản, đồng thời duy trì được sự tự nhiên của câu dịch trong phần lớn trường hợp.\n",
        "- Perplexity = 2.1212 cho thấy mô hình có độ không chắc chắn thấp khi dự đoán từ tiếp theo, chỉ với khoảng 2.12 khả năng. Điều này cho thấy mô hình có khả năng dự đoán chính xác từ tiếp theo trong chuỗi, đồng thời phản ánh hiệu quả trong việc học các đặc trưng ngữ nghĩa và ngữ pháp của ngôn ngữ. Mức perplexity này cho thấy mô hình có thể hiểu được mối quan hệ giữa các từ trong câu và đưa ra dự đoán chính xác về chuỗi từ.\n"
      ],
      "metadata": {
        "id": "CD-ANo3KkU6L"
      }
    }
  ]
}